{
 "cells": [
  {
   "cell_type": "code",
   "execution_count": 1,
   "metadata": {},
   "outputs": [
    {
     "data": {
      "text/plain": [
       "True"
      ]
     },
     "execution_count": 1,
     "metadata": {},
     "output_type": "execute_result"
    }
   ],
   "source": [
    "import torch as tc      \n",
    "tc.cuda.is_available()"
   ]
  },
  {
   "cell_type": "markdown",
   "metadata": {},
   "source": [
    "# Tensor and Gradient\n",
    "## Tensor\n"
   ]
  },
  {
   "cell_type": "code",
   "execution_count": 2,
   "metadata": {},
   "outputs": [
    {
     "name": "stdout",
     "output_type": "stream",
     "text": [
      "tensor(4)\n",
      "torch.int64\n",
      "tensor([1, 2, 3, 4, 5])\n",
      "torch.int64\n",
      "torch.Size([5])\n",
      "tensor([[1, 2],\n",
      "        [3, 4]])\n",
      "tensor([[1, 2, 3],\n",
      "        [4, 5, 6]])\n",
      "torch.Size([2, 3])\n",
      "torch.Size([2, 3])\n"
     ]
    }
   ],
   "source": [
    "t1 = tc.tensor(4)\n",
    "print(t1)\n",
    "print(t1.dtype)\n",
    "\n",
    "t2 = tc.tensor([1,2,3,4,5])\n",
    "print(t2)\n",
    "print(t2.dtype)\n",
    "print(t2.shape)\n",
    "\n",
    "mat = tc.tensor([[1,2],[3,4]])\n",
    "print(mat)\n",
    "\n",
    "twothree = tc.tensor([[1,2,3],[4,5,6]])\n",
    "print(twothree)\n",
    "print(twothree.shape)\n",
    "print(twothree.size())\n",
    "\n",
    "\n"
   ]
  },
  {
   "cell_type": "markdown",
   "metadata": {},
   "source": [
    "## Gradient"
   ]
  },
  {
   "cell_type": "code",
   "execution_count": 3,
   "metadata": {},
   "outputs": [
    {
     "name": "stdout",
     "output_type": "stream",
     "text": [
      "tensor(17., grad_fn=<AddBackward0>)\n",
      "dy/dx  None\n",
      "dy/dw  tensor(3.)\n",
      "dy/db  tensor(1.)\n"
     ]
    }
   ],
   "source": [
    "# These tensors are just scalar\n",
    "x = tc.tensor(3)  # Only to the tensors that we really needs the gradient\n",
    "w = tc.tensor(4., requires_grad=True)\n",
    "b = tc.tensor(5., requires_grad=True)\n",
    "\n",
    "# Arithmetic operation\n",
    "y = w*x + b\n",
    "print(y)\n",
    "\n",
    "# Calculate gradients\n",
    "y.backward() # Call this to trigger grad calculation\n",
    "print('dy/dx ', x.grad) \n",
    "print('dy/dw ', w.grad) #.grad attributes is wrt to the y.backward()\n",
    "print('dy/db ', b.grad)\n",
    "\n"
   ]
  },
  {
   "cell_type": "markdown",
   "metadata": {},
   "source": [
    "## With Numpy\n"
   ]
  },
  {
   "cell_type": "code",
   "execution_count": 4,
   "metadata": {},
   "outputs": [
    {
     "name": "stdout",
     "output_type": "stream",
     "text": [
      "[[1 2]\n",
      " [3 4]]\n",
      "int64\n",
      "tensor([[1, 2],\n",
      "        [3, 4]])\n",
      "torch.int64\n",
      "[[0 0]\n",
      " [0 0]]\n"
     ]
    }
   ],
   "source": [
    "import numpy as np\n",
    "x = np.array([[1,2],[3,4]])\n",
    "print(x)\n",
    "print(x.dtype)\n",
    "y = tc.from_numpy(x)\n",
    "print(y)\n",
    "print(y.dtype)\n",
    "z = y.numpy()\n",
    "print(x - z)\n"
   ]
  },
  {
   "cell_type": "markdown",
   "metadata": {},
   "source": [
    "# Linear Regression\n"
   ]
  },
  {
   "cell_type": "code",
   "execution_count": 5,
   "metadata": {},
   "outputs": [
    {
     "name": "stdout",
     "output_type": "stream",
     "text": [
      "tensor([[ 73.,  67.,  43.],\n",
      "        [ 91.,  88.,  64.],\n",
      "        [ 87., 134.,  58.],\n",
      "        [102.,  43.,  37.],\n",
      "        [ 69.,  96.,  70.]])\n",
      "tensor([[ 56.,  70.],\n",
      "        [ 81., 101.],\n",
      "        [119., 133.],\n",
      "        [ 22.,  37.],\n",
      "        [103., 119.]])\n",
      "w\n",
      "tensor([[-2.7558,  1.4785],\n",
      "        [-0.1469, -0.3173],\n",
      "        [-0.0935, -0.7446]], requires_grad=True)\n",
      "b\n",
      "tensor([ 0.2452, -0.3965], requires_grad=True)\n"
     ]
    }
   ],
   "source": [
    "input = np.array([[73, 67, 43], \n",
    "                   [91, 88, 64], \n",
    "                   [87, 134, 58], \n",
    "                   [102, 43, 37], \n",
    "                   [69, 96, 70]], dtype='float32')\n",
    "                   # Targets (apples, oranges)\n",
    "output = np.array([[56, 70], \n",
    "                    [81, 101], \n",
    "                    [119, 133], \n",
    "                    [22, 37], \n",
    "                    [103, 119]], dtype='float32')\n",
    "\n",
    "input_tc = tc.from_numpy(input)\n",
    "output_tc = tc.from_numpy(output)\n",
    "print(input_tc)\n",
    "print(output_tc)\n",
    "\n",
    "# y = w*x + b\n",
    "w = tc.tensor([[-2.7558,  1.4785],\n",
    "        [-0.1469, -0.3173],\n",
    "        [-0.0935, -0.7446]], requires_grad = True)\n",
    "b = tc.tensor([ 0.2452, -0.3965], requires_grad = True)\n",
    "print(\"w\")\n",
    "print(w)\n",
    "print(\"b\")\n",
    "print(b)\n",
    "\n"
   ]
  },
  {
   "cell_type": "code",
   "execution_count": 6,
   "metadata": {},
   "outputs": [],
   "source": [
    "\n",
    "def model(x): \n",
    "    return x @ w + b\n",
    "def mse(t1,t2):\n",
    "    diff = (t1 - t2)\n",
    "    return tc.sum((diff*diff)/diff.numel()) # numel = number of element\n",
    "    "
   ]
  },
  {
   "cell_type": "code",
   "execution_count": 7,
   "metadata": {},
   "outputs": [
    {
     "name": "stdout",
     "output_type": "stream",
     "text": [
      "tensor([[-214.7910,   54.2571],\n",
      "        [-269.4438,   58.5702],\n",
      "        [-264.6170,   42.5280],\n",
      "        [-290.6226,  109.2164],\n",
      "        [-210.5524,   19.0372]], grad_fn=<AddBackward0>)\n",
      "tensor([[ 56.,  70.],\n",
      "        [ 81., 101.],\n",
      "        [119., 133.],\n",
      "        [ 22.,  37.],\n",
      "        [103., 119.]])\n",
      "tensor(56478.9727, grad_fn=<SumBackward0>)\n"
     ]
    }
   ],
   "source": [
    "# Prediction\n",
    "preds = model(input_tc)\n",
    "print(preds)\n",
    "print(output_tc)\n",
    "\n",
    "loss = mse (preds, output_tc)\n",
    "print(loss)\n",
    "loss.backward()\n"
   ]
  },
  {
   "cell_type": "code",
   "execution_count": 8,
   "metadata": {},
   "outputs": [
    {
     "name": "stdout",
     "output_type": "stream",
     "text": [
      "tensor([[-2.7558,  1.4785],\n",
      "        [-0.1469, -0.3173],\n",
      "        [-0.0935, -0.7446]], requires_grad=True)\n",
      "tensor([[-27711.0879,  -2482.5532],\n",
      "        [-28786.1074,  -4680.5933],\n",
      "        [-17967.5820,  -2593.0432]])\n",
      "tensor([ 0.2452, -0.3965], requires_grad=True)\n",
      "tensor([-326.2054,  -35.2782])\n"
     ]
    }
   ],
   "source": [
    "# Compute gradient of loss wrt to the components\n",
    "print(w)\n",
    "print(w.grad)\n",
    "print(b)\n",
    "print(b.grad)"
   ]
  },
  {
   "cell_type": "code",
   "execution_count": 9,
   "metadata": {},
   "outputs": [],
   "source": [
    "rate = 1e-5\n",
    "with tc.no_grad():\n",
    "    w -= w.grad*rate\n",
    "    b -= b.grad*rate\n",
    "    w.grad.zero_()\n",
    "    b.grad.zero_()"
   ]
  },
  {
   "cell_type": "code",
   "execution_count": 10,
   "metadata": {},
   "outputs": [],
   "source": [
    "\n",
    "loss_over_time = []\n",
    "for i in range(100):\n",
    "    preds = model(input_tc)\n",
    "    loss = mse(preds, output_tc)\n",
    "    loss_over_time.append(loss.detach().numpy())\n",
    "    loss.backward()\n",
    "    with tc.no_grad(): # Turn off the gradient feature to reduce memory while update\n",
    "        w -= w.grad*rate\n",
    "        b -= b.grad*rate\n",
    "        w.grad.zero_()\n",
    "        b.grad.zero_()"
   ]
  },
  {
   "cell_type": "code",
   "execution_count": 11,
   "metadata": {},
   "outputs": [],
   "source": [
    "import matplotlib.pyplot as plt\n"
   ]
  },
  {
   "cell_type": "code",
   "execution_count": 12,
   "metadata": {},
   "outputs": [
    {
     "data": {
      "text/plain": [
       "[<matplotlib.lines.Line2D at 0x7fcf8c820760>]"
      ]
     },
     "execution_count": 12,
     "metadata": {},
     "output_type": "execute_result"
    },
    {
     "data": {
      "image/png": "[encoded data removed]",
      "text/plain": [
       "<Figure size 432x288 with 1 Axes>"
      ]
     },
     "metadata": {
      "needs_background": "light"
     },
     "output_type": "display_data"
    }
   ],
   "source": [
    "x = np.linspace(1,len(loss_over_time),num = len(loss_over_time))\n",
    "\n",
    "plt.plot(x, loss_over_time)"
   ]
  },
  {
   "cell_type": "markdown",
   "metadata": {},
   "source": [
    "## Dataset and DataLoader\n"
   ]
  },
  {
   "cell_type": "code",
   "execution_count": 13,
   "metadata": {},
   "outputs": [],
   "source": [
    "from torch.utils.data import TensorDataset\n",
    "from torch.utils.data import DataLoader\n",
    "import torch.nn as nn\n"
   ]
  },
  {
   "cell_type": "code",
   "execution_count": 14,
   "metadata": {},
   "outputs": [
    {
     "name": "stdout",
     "output_type": "stream",
     "text": [
      "<class 'torch.utils.data.dataset.TensorDataset'>\n"
     ]
    },
    {
     "data": {
      "text/plain": [
       "(tensor([73., 67., 43.]), tensor([56., 70.]))"
      ]
     },
     "execution_count": 14,
     "metadata": {},
     "output_type": "execute_result"
    }
   ],
   "source": [
    "train_ds = TensorDataset(input_tc, output_tc) # Input Output\n",
    "print(type(train_ds))\n",
    "train_ds[0]"
   ]
  },
  {
   "cell_type": "code",
   "execution_count": 15,
   "metadata": {},
   "outputs": [
    {
     "name": "stdout",
     "output_type": "stream",
     "text": [
      "batch\n",
      "tensor([[ 69.,  96.,  70.],\n",
      "        [ 87., 134.,  58.],\n",
      "        [ 73.,  67.,  43.],\n",
      "        [ 91.,  88.,  64.],\n",
      "        [102.,  43.,  37.]])\n",
      "tensor([[103., 119.],\n",
      "        [119., 133.],\n",
      "        [ 56.,  70.],\n",
      "        [ 81., 101.],\n",
      "        [ 22.,  37.]])\n"
     ]
    }
   ],
   "source": [
    "BATCH_SIZE = 5\n",
    "train_dataloader = DataLoader(train_ds, BATCH_SIZE, shuffle=True)\n",
    "for xb, yb in train_dataloader:\n",
    "    print(\"batch\")\n",
    "    print(xb)\n",
    "    print(yb)\n"
   ]
  },
  {
   "cell_type": "code",
   "execution_count": 16,
   "metadata": {},
   "outputs": [
    {
     "name": "stdout",
     "output_type": "stream",
     "text": [
      "Parameter containing:\n",
      "tensor([[-0.2585, -0.4612, -0.1896],\n",
      "        [-0.0336, -0.4540,  0.3737]], requires_grad=True)\n",
      "Parameter containing:\n",
      "tensor([-0.3565,  0.1285], requires_grad=True)\n"
     ]
    },
    {
     "data": {
      "text/plain": [
       "[Parameter containing:\n",
       " tensor([[-0.2585, -0.4612, -0.1896],\n",
       "         [-0.0336, -0.4540,  0.3737]], requires_grad=True),\n",
       " Parameter containing:\n",
       " tensor([-0.3565,  0.1285], requires_grad=True)]"
      ]
     },
     "execution_count": 16,
     "metadata": {},
     "output_type": "execute_result"
    }
   ],
   "source": [
    "model = nn.Linear(3,2)\n",
    "print(model.weight)\n",
    "print(model.bias)\n",
    "list(model.parameters())"
   ]
  },
  {
   "cell_type": "code",
   "execution_count": 17,
   "metadata": {},
   "outputs": [
    {
     "data": {
      "text/plain": [
       "tensor([[-58.2846, -16.6769],\n",
       "        [-76.6059, -18.9686],\n",
       "        [-95.6497, -41.9625],\n",
       "        [-53.5748,  -8.9980],\n",
       "        [-75.7460, -19.6184]], grad_fn=<AddmmBackward0>)"
      ]
     },
     "execution_count": 17,
     "metadata": {},
     "output_type": "execute_result"
    }
   ],
   "source": [
    "preds = model(input_tc)\n",
    "preds"
   ]
  },
  {
   "cell_type": "code",
   "execution_count": 18,
   "metadata": {},
   "outputs": [
    {
     "name": "stdout",
     "output_type": "stream",
     "text": [
      "tensor(19548.4883, grad_fn=<MseLossBackward0>)\n"
     ]
    }
   ],
   "source": [
    "import torch.nn.functional as F\n",
    "loss_fn = F.mse_loss\n",
    "loss = loss_fn(model(input_tc), output_tc)\n",
    "print(loss)\n",
    "\n"
   ]
  },
  {
   "cell_type": "code",
   "execution_count": 19,
   "metadata": {},
   "outputs": [
    {
     "name": "stdout",
     "output_type": "stream",
     "text": [
      "\u001b[0;31mInit signature:\u001b[0m\n",
      "\u001b[0mtc\u001b[0m\u001b[0;34m.\u001b[0m\u001b[0moptim\u001b[0m\u001b[0;34m.\u001b[0m\u001b[0mSGD\u001b[0m\u001b[0;34m(\u001b[0m\u001b[0;34m\u001b[0m\n",
      "\u001b[0;34m\u001b[0m    \u001b[0mparams\u001b[0m\u001b[0;34m,\u001b[0m\u001b[0;34m\u001b[0m\n",
      "\u001b[0;34m\u001b[0m    \u001b[0mlr\u001b[0m\u001b[0;34m=\u001b[0m\u001b[0;34m<\u001b[0m\u001b[0mrequired\u001b[0m \u001b[0mparameter\u001b[0m\u001b[0;34m>\u001b[0m\u001b[0;34m,\u001b[0m\u001b[0;34m\u001b[0m\n",
      "\u001b[0;34m\u001b[0m    \u001b[0mmomentum\u001b[0m\u001b[0;34m=\u001b[0m\u001b[0;36m0\u001b[0m\u001b[0;34m,\u001b[0m\u001b[0;34m\u001b[0m\n",
      "\u001b[0;34m\u001b[0m    \u001b[0mdampening\u001b[0m\u001b[0;34m=\u001b[0m\u001b[0;36m0\u001b[0m\u001b[0;34m,\u001b[0m\u001b[0;34m\u001b[0m\n",
      "\u001b[0;34m\u001b[0m    \u001b[0mweight_decay\u001b[0m\u001b[0;34m=\u001b[0m\u001b[0;36m0\u001b[0m\u001b[0;34m,\u001b[0m\u001b[0;34m\u001b[0m\n",
      "\u001b[0;34m\u001b[0m    \u001b[0mnesterov\u001b[0m\u001b[0;34m=\u001b[0m\u001b[0;32mFalse\u001b[0m\u001b[0;34m,\u001b[0m\u001b[0;34m\u001b[0m\n",
      "\u001b[0;34m\u001b[0m    \u001b[0;34m*\u001b[0m\u001b[0;34m,\u001b[0m\u001b[0;34m\u001b[0m\n",
      "\u001b[0;34m\u001b[0m    \u001b[0mmaximize\u001b[0m\u001b[0;34m=\u001b[0m\u001b[0;32mFalse\u001b[0m\u001b[0;34m,\u001b[0m\u001b[0;34m\u001b[0m\n",
      "\u001b[0;34m\u001b[0m    \u001b[0mforeach\u001b[0m\u001b[0;34m:\u001b[0m \u001b[0mUnion\u001b[0m\u001b[0;34m[\u001b[0m\u001b[0mbool\u001b[0m\u001b[0;34m,\u001b[0m \u001b[0mNoneType\u001b[0m\u001b[0;34m]\u001b[0m \u001b[0;34m=\u001b[0m \u001b[0;32mNone\u001b[0m\u001b[0;34m,\u001b[0m\u001b[0;34m\u001b[0m\n",
      "\u001b[0;34m\u001b[0m\u001b[0;34m)\u001b[0m\u001b[0;34m\u001b[0m\u001b[0;34m\u001b[0m\u001b[0m\n",
      "\u001b[0;31mDocstring:\u001b[0m     \n",
      "Implements stochastic gradient descent (optionally with momentum).\n",
      "\n",
      ".. math::\n",
      "   \\begin{aligned}\n",
      "        &\\rule{110mm}{0.4pt}                                                                 \\\\\n",
      "        &\\textbf{input}      : \\gamma \\text{ (lr)}, \\: \\theta_0 \\text{ (params)}, \\: f(\\theta)\n",
      "            \\text{ (objective)}, \\: \\lambda \\text{ (weight decay)},                          \\\\\n",
      "        &\\hspace{13mm} \\:\\mu \\text{ (momentum)}, \\:\\tau \\text{ (dampening)},\n",
      "        \\:\\textit{ nesterov,}\\:\\textit{ maximize}                                     \\\\[-1.ex]\n",
      "        &\\rule{110mm}{0.4pt}                                                                 \\\\\n",
      "        &\\textbf{for} \\: t=1 \\: \\textbf{to} \\: \\ldots \\: \\textbf{do}                         \\\\\n",
      "        &\\hspace{5mm}g_t           \\leftarrow   \\nabla_{\\theta} f_t (\\theta_{t-1})           \\\\\n",
      "        &\\hspace{5mm}\\textbf{if} \\: \\lambda \\neq 0                                           \\\\\n",
      "        &\\hspace{10mm} g_t \\leftarrow g_t + \\lambda  \\theta_{t-1}                            \\\\\n",
      "        &\\hspace{5mm}\\textbf{if} \\: \\mu \\neq 0                                               \\\\\n",
      "        &\\hspace{10mm}\\textbf{if} \\: t > 1                                                   \\\\\n",
      "        &\\hspace{15mm} \\textbf{b}_t \\leftarrow \\mu \\textbf{b}_{t-1} + (1-\\tau) g_t           \\\\\n",
      "        &\\hspace{10mm}\\textbf{else}                                                          \\\\\n",
      "        &\\hspace{15mm} \\textbf{b}_t \\leftarrow g_t                                           \\\\\n",
      "        &\\hspace{10mm}\\textbf{if} \\: \\textit{nesterov}                                       \\\\\n",
      "        &\\hspace{15mm} g_t \\leftarrow g_{t} + \\mu \\textbf{b}_t                             \\\\\n",
      "        &\\hspace{10mm}\\textbf{else}                                                   \\\\[-1.ex]\n",
      "        &\\hspace{15mm} g_t  \\leftarrow  \\textbf{b}_t                                         \\\\\n",
      "        &\\hspace{5mm}\\textbf{if} \\: \\textit{maximize}                                          \\\\\n",
      "        &\\hspace{10mm}\\theta_t \\leftarrow \\theta_{t-1} + \\gamma g_t                   \\\\[-1.ex]\n",
      "        &\\hspace{5mm}\\textbf{else}                                                    \\\\[-1.ex]\n",
      "        &\\hspace{10mm}\\theta_t \\leftarrow \\theta_{t-1} - \\gamma g_t                   \\\\[-1.ex]\n",
      "        &\\rule{110mm}{0.4pt}                                                          \\\\[-1.ex]\n",
      "        &\\bf{return} \\:  \\theta_t                                                     \\\\[-1.ex]\n",
      "        &\\rule{110mm}{0.4pt}                                                          \\\\[-1.ex]\n",
      "   \\end{aligned}\n",
      "\n",
      "Nesterov momentum is based on the formula from\n",
      "`On the importance of initialization and momentum in deep learning`__.\n",
      "\n",
      "Args:\n",
      "    params (iterable): iterable of parameters to optimize or dicts defining\n",
      "        parameter groups\n",
      "    lr (float): learning rate\n",
      "    momentum (float, optional): momentum factor (default: 0)\n",
      "    weight_decay (float, optional): weight decay (L2 penalty) (default: 0)\n",
      "    dampening (float, optional): dampening for momentum (default: 0)\n",
      "    nesterov (bool, optional): enables Nesterov momentum (default: False)\n",
      "    maximize (bool, optional): maximize the params based on the objective, instead of\n",
      "        minimizing (default: False)\n",
      "    foreach (bool, optional): whether foreach implementation of optimizer\n",
      "        is used (default: None)\n",
      "\n",
      "Example:\n",
      "    >>> optimizer = torch.optim.SGD(model.parameters(), lr=0.1, momentum=0.9)\n",
      "    >>> optimizer.zero_grad()\n",
      "    >>> loss_fn(model(input), target).backward()\n",
      "    >>> optimizer.step()\n",
      "\n",
      "__ http://www.cs.toronto.edu/%7Ehinton/absps/momentum.pdf\n",
      "\n",
      ".. note::\n",
      "    The implementation of SGD with Momentum/Nesterov subtly differs from\n",
      "    Sutskever et. al. and implementations in some other frameworks.\n",
      "\n",
      "    Considering the specific case of Momentum, the update can be written as\n",
      "\n",
      "    .. math::\n",
      "        \\begin{aligned}\n",
      "            v_{t+1} & = \\mu * v_{t} + g_{t+1}, \\\\\n",
      "            p_{t+1} & = p_{t} - \\text{lr} * v_{t+1},\n",
      "        \\end{aligned}\n",
      "\n",
      "    where :math:`p`, :math:`g`, :math:`v` and :math:`\\mu` denote the\n",
      "    parameters, gradient, velocity, and momentum respectively.\n",
      "\n",
      "    This is in contrast to Sutskever et. al. and\n",
      "    other frameworks which employ an update of the form\n",
      "\n",
      "    .. math::\n",
      "        \\begin{aligned}\n",
      "            v_{t+1} & = \\mu * v_{t} + \\text{lr} * g_{t+1}, \\\\\n",
      "            p_{t+1} & = p_{t} - v_{t+1}.\n",
      "        \\end{aligned}\n",
      "\n",
      "    The Nesterov version is analogously modified.\n",
      "\u001b[0;31mFile:\u001b[0m           ~/miniconda3/envs/learn/lib/python3.8/site-packages/torch/optim/sgd.py\n",
      "\u001b[0;31mType:\u001b[0m           type\n",
      "\u001b[0;31mSubclasses:\u001b[0m     NewCls\n"
     ]
    }
   ],
   "source": [
    "optimize = tc.optim.SGD(model.parameters(), lr = 1e-5)\n",
    "?tc.optim.SGD"
   ]
  },
  {
   "cell_type": "code",
   "execution_count": 20,
   "metadata": {},
   "outputs": [],
   "source": [
    "def fit(EPOCH, model, loss_fn, optimize):\n",
    "    for epoch in range(EPOCH):\n",
    "        for xb, yb in train_dataloader:\n",
    "            loss = loss_fn(model(xb), yb) # The function that we want the error to be the lowest\n",
    "            loss.backward()\n",
    "            optimize.step() # Update the parameter using the gradient SGD\n",
    "            optimize.zero_grad() # Reset the grad of the parameter\n",
    "        if (epoch+1)% 10 ==0:\n",
    "            print(\"Epoch [{}/{}], Loss: {:.4f}\".format(epoch+1,EPOCH,loss))\n"
   ]
  },
  {
   "cell_type": "code",
   "execution_count": 21,
   "metadata": {},
   "outputs": [
    {
     "name": "stdout",
     "output_type": "stream",
     "text": [
      "Epoch [10/1000], Loss: 1163.1074\n",
      "Epoch [20/1000], Loss: 559.6546\n",
      "Epoch [30/1000], Loss: 484.5746\n",
      "Epoch [40/1000], Loss: 427.2568\n",
      "Epoch [50/1000], Loss: 376.9379\n",
      "Epoch [60/1000], Loss: 332.6158\n",
      "Epoch [70/1000], Loss: 293.5718\n",
      "Epoch [80/1000], Loss: 259.1765\n",
      "Epoch [90/1000], Loss: 228.8750\n",
      "Epoch [100/1000], Loss: 202.1792\n",
      "Epoch [110/1000], Loss: 178.6587\n",
      "Epoch [120/1000], Loss: 157.9351\n",
      "Epoch [130/1000], Loss: 139.6746\n",
      "Epoch [140/1000], Loss: 123.5836\n",
      "Epoch [150/1000], Loss: 109.4031\n",
      "Epoch [160/1000], Loss: 96.9056\n",
      "Epoch [170/1000], Loss: 85.8903\n",
      "Epoch [180/1000], Loss: 76.1806\n",
      "Epoch [190/1000], Loss: 67.6206\n",
      "Epoch [200/1000], Loss: 60.0735\n",
      "Epoch [210/1000], Loss: 53.4184\n",
      "Epoch [220/1000], Loss: 47.5493\n",
      "Epoch [230/1000], Loss: 42.3722\n",
      "Epoch [240/1000], Loss: 37.8049\n",
      "Epoch [250/1000], Loss: 33.7748\n",
      "Epoch [260/1000], Loss: 30.2178\n",
      "Epoch [270/1000], Loss: 27.0776\n",
      "Epoch [280/1000], Loss: 24.3047\n",
      "Epoch [290/1000], Loss: 21.8554\n",
      "Epoch [300/1000], Loss: 19.6911\n",
      "Epoch [310/1000], Loss: 17.7780\n",
      "Epoch [320/1000], Loss: 16.0863\n",
      "Epoch [330/1000], Loss: 14.5896\n",
      "Epoch [340/1000], Loss: 13.2649\n",
      "Epoch [350/1000], Loss: 12.0916\n",
      "Epoch [360/1000], Loss: 11.0520\n",
      "Epoch [370/1000], Loss: 10.1300\n",
      "Epoch [380/1000], Loss: 9.3119\n",
      "Epoch [390/1000], Loss: 8.5853\n",
      "Epoch [400/1000], Loss: 7.9394\n",
      "Epoch [410/1000], Loss: 7.3648\n",
      "Epoch [420/1000], Loss: 6.8529\n",
      "Epoch [430/1000], Loss: 6.3965\n",
      "Epoch [440/1000], Loss: 5.9889\n",
      "Epoch [450/1000], Loss: 5.6246\n",
      "Epoch [460/1000], Loss: 5.2984\n",
      "Epoch [470/1000], Loss: 5.0058\n",
      "Epoch [480/1000], Loss: 4.7431\n",
      "Epoch [490/1000], Loss: 4.5066\n",
      "Epoch [500/1000], Loss: 4.2933\n",
      "Epoch [510/1000], Loss: 4.1007\n",
      "Epoch [520/1000], Loss: 3.9262\n",
      "Epoch [530/1000], Loss: 3.7679\n",
      "Epoch [540/1000], Loss: 3.6239\n",
      "Epoch [550/1000], Loss: 3.4925\n",
      "Epoch [560/1000], Loss: 3.3724\n",
      "Epoch [570/1000], Loss: 3.2622\n",
      "Epoch [580/1000], Loss: 3.1609\n",
      "Epoch [590/1000], Loss: 3.0675\n",
      "Epoch [600/1000], Loss: 2.9811\n",
      "Epoch [610/1000], Loss: 2.9010\n",
      "Epoch [620/1000], Loss: 2.8265\n",
      "Epoch [630/1000], Loss: 2.7570\n",
      "Epoch [640/1000], Loss: 2.6919\n",
      "Epoch [650/1000], Loss: 2.6309\n",
      "Epoch [660/1000], Loss: 2.5734\n",
      "Epoch [670/1000], Loss: 2.5192\n",
      "Epoch [680/1000], Loss: 2.4680\n",
      "Epoch [690/1000], Loss: 2.4193\n",
      "Epoch [700/1000], Loss: 2.3731\n",
      "Epoch [710/1000], Loss: 2.3290\n",
      "Epoch [720/1000], Loss: 2.2869\n",
      "Epoch [730/1000], Loss: 2.2465\n",
      "Epoch [740/1000], Loss: 2.2078\n",
      "Epoch [750/1000], Loss: 2.1707\n",
      "Epoch [760/1000], Loss: 2.1349\n",
      "Epoch [770/1000], Loss: 2.1003\n",
      "Epoch [780/1000], Loss: 2.0670\n",
      "Epoch [790/1000], Loss: 2.0347\n",
      "Epoch [800/1000], Loss: 2.0035\n",
      "Epoch [810/1000], Loss: 1.9732\n",
      "Epoch [820/1000], Loss: 1.9438\n",
      "Epoch [830/1000], Loss: 1.9152\n",
      "Epoch [840/1000], Loss: 1.8874\n",
      "Epoch [850/1000], Loss: 1.8603\n",
      "Epoch [860/1000], Loss: 1.8339\n",
      "Epoch [870/1000], Loss: 1.8082\n",
      "Epoch [880/1000], Loss: 1.7831\n",
      "Epoch [890/1000], Loss: 1.7586\n",
      "Epoch [900/1000], Loss: 1.7347\n",
      "Epoch [910/1000], Loss: 1.7113\n",
      "Epoch [920/1000], Loss: 1.6885\n",
      "Epoch [930/1000], Loss: 1.6661\n",
      "Epoch [940/1000], Loss: 1.6442\n",
      "Epoch [950/1000], Loss: 1.6228\n",
      "Epoch [960/1000], Loss: 1.6019\n",
      "Epoch [970/1000], Loss: 1.5814\n",
      "Epoch [980/1000], Loss: 1.5613\n",
      "Epoch [990/1000], Loss: 1.5416\n",
      "Epoch [1000/1000], Loss: 1.5223\n"
     ]
    }
   ],
   "source": [
    "fit(1000,model, loss_fn, optimize)"
   ]
  },
  {
   "cell_type": "markdown",
   "metadata": {},
   "source": [
    "# Image Classification\n"
   ]
  },
  {
   "cell_type": "code",
   "execution_count": 22,
   "metadata": {},
   "outputs": [],
   "source": [
    "import torch\n",
    "import torchvision\n",
    "from torchvision.datasets import MNIST\n",
    "import torchvision.transforms as transform # Transform other data types into tensors\n",
    "\n"
   ]
  },
  {
   "cell_type": "code",
   "execution_count": 23,
   "metadata": {},
   "outputs": [
    {
     "data": {
      "text/plain": [
       "60000"
      ]
     },
     "execution_count": 23,
     "metadata": {},
     "output_type": "execute_result"
    }
   ],
   "source": [
    "dataset = MNIST(root='data/', download=True)\n",
    "len(dataset)"
   ]
  },
  {
   "cell_type": "code",
   "execution_count": 24,
   "metadata": {},
   "outputs": [
    {
     "data": {
      "text/plain": [
       "10000"
      ]
     },
     "execution_count": 24,
     "metadata": {},
     "output_type": "execute_result"
    }
   ],
   "source": [
    "test_dataset = MNIST(root=\"data/\", train = False)\n",
    "len(test_dataset)"
   ]
  },
  {
   "cell_type": "code",
   "execution_count": 25,
   "metadata": {},
   "outputs": [
    {
     "name": "stdout",
     "output_type": "stream",
     "text": [
      "<class 'tuple'>\n",
      "<class 'PIL.Image.Image'>\n",
      "<class 'int'>\n",
      "5\n"
     ]
    },
    {
     "data": {
      "image/png": "[encoded data removed]",
      "text/plain": [
       "<Figure size 432x288 with 1 Axes>"
      ]
     },
     "metadata": {
      "needs_background": "light"
     },
     "output_type": "display_data"
    }
   ],
   "source": [
    "from PIL import Image\n",
    "import matplotlib.pyplot as plt\n",
    "%matplotlib inline\n",
    "image, label = dataset[0]\n",
    "print(type(dataset[0]))\n",
    "print(type(image))\n",
    "print(type(label))\n",
    "plt.imshow(image, cmap=\"gray\")\n",
    "print(label)"
   ]
  },
  {
   "cell_type": "code",
   "execution_count": 26,
   "metadata": {},
   "outputs": [
    {
     "name": "stdout",
     "output_type": "stream",
     "text": [
      "torch.Size([1, 28, 28]) 5\n",
      "tensor([[0.0000, 0.0000, 0.0000, 0.0000, 0.0000, 0.0000, 0.0000, 0.0000, 0.0000,\n",
      "         0.0549, 0.0039, 0.6039, 0.9922, 0.3529, 0.0000, 0.0000, 0.0000, 0.0000,\n",
      "         0.0000, 0.0000, 0.0000, 0.0000, 0.0000, 0.0000, 0.0000, 0.0000, 0.0000,\n",
      "         0.0000],\n",
      "        [0.0000, 0.0000, 0.0000, 0.0000, 0.0000, 0.0000, 0.0000, 0.0000, 0.0000,\n",
      "         0.0000, 0.0000, 0.5451, 0.9922, 0.7451, 0.0078, 0.0000, 0.0000, 0.0000,\n",
      "         0.0000, 0.0000, 0.0000, 0.0000, 0.0000, 0.0000, 0.0000, 0.0000, 0.0000,\n",
      "         0.0000],\n",
      "        [0.0000, 0.0000, 0.0000, 0.0000, 0.0000, 0.0000, 0.0000, 0.0000, 0.0000,\n",
      "         0.0000, 0.0000, 0.0431, 0.7451, 0.9922, 0.2745, 0.0000, 0.0000, 0.0000,\n",
      "         0.0000, 0.0000, 0.0000, 0.0000, 0.0000, 0.0000, 0.0000, 0.0000, 0.0000,\n",
      "         0.0000],\n",
      "        [0.0000, 0.0000, 0.0000, 0.0000, 0.0000, 0.0000, 0.0000, 0.0000, 0.0000,\n",
      "         0.0000, 0.0000, 0.0000, 0.1373, 0.9451, 0.8824, 0.6275, 0.4235, 0.0039,\n",
      "         0.0000, 0.0000, 0.0000, 0.0000, 0.0000, 0.0000, 0.0000, 0.0000, 0.0000,\n",
      "         0.0000],\n",
      "        [0.0000, 0.0000, 0.0000, 0.0000, 0.0000, 0.0000, 0.0000, 0.0000, 0.0000,\n",
      "         0.0000, 0.0000, 0.0000, 0.0000, 0.3176, 0.9412, 0.9922, 0.9922, 0.4667,\n",
      "         0.0980, 0.0000, 0.0000, 0.0000, 0.0000, 0.0000, 0.0000, 0.0000, 0.0000,\n",
      "         0.0000]])\n"
     ]
    }
   ],
   "source": [
    "dataset = MNIST(root=\"data/\", train=True, transform = transform.ToTensor()) # This is only applicable to MNIST\n",
    "\n",
    "# Transform to  C x H x W\n",
    "\n",
    "img_tensor, label = dataset[0]\n",
    "print(img_tensor.shape, label)\n",
    "print(img_tensor[0][10:15])"
   ]
  },
  {
   "cell_type": "code",
   "execution_count": 27,
   "metadata": {},
   "outputs": [],
   "source": [
    "# Train test Validate\n",
    "from sklearn. model_selection import train_test_split\n",
    "import sklearn\n"
   ]
  },
  {
   "cell_type": "code",
   "execution_count": 28,
   "metadata": {},
   "outputs": [
    {
     "data": {
      "text/plain": [
       "'\\nclass CustomModule(nn.Module):\\n    def __init__(self):\\n        super().__init__()\\n        self.con1 = nn.Conv2d(2, 2, 3)\\n        self.con2 = nn.Conv2d(2, 3, 3)\\n\\n    def forward(self, X):\\n        x = self.con1(x)\\n        x = self.con2(x)\\n        return X\\n\\nmodel = CustomModule(input, output)\\nopt = tc.optim.SGD(model.parameters(), lr = 0.1) # the model is a child class of nn.Module, hence, it has method parameters()\\nF.mse_loss\\n\\n# Training process\\n\\nfor epoch in range(EPOCH_NUM):\\n    predict = model.forward(input)\\n    loss = F.mse_loss(predict, output)\\n    loss.backward()\\n    opt.step()\\n    opt.zero_grad()\\n'"
      ]
     },
     "execution_count": 28,
     "metadata": {},
     "output_type": "execute_result"
    }
   ],
   "source": [
    "'''\n",
    "class CustomModule(nn.Module):\n",
    "    def __init__(self):\n",
    "        super().__init__()\n",
    "        self.con1 = nn.Conv2d(2, 2, 3)\n",
    "        self.con2 = nn.Conv2d(2, 3, 3)\n",
    "\n",
    "    def forward(self, X):\n",
    "        x = self.con1(x)\n",
    "        x = self.con2(x)\n",
    "        return X\n",
    "\n",
    "model = CustomModule(input, output)\n",
    "opt = tc.optim.SGD(model.parameters(), lr = 0.1) # the model is a child class of nn.Module, hence, it has method parameters()\n",
    "F.mse_loss\n",
    "\n",
    "# Training process\n",
    "\n",
    "for epoch in range(EPOCH_NUM): # Run epoch\n",
    "    for input,output in DataLoad: # Update after 1 batch\n",
    "        predict = model.forward(input)\n",
    "        loss = F.mse_loss(predict, output)\n",
    "        loss.backward()\n",
    "        opt.step()\n",
    "        opt.zero_grad()\n",
    "\n",
    "'''\n"
   ]
  },
  {
   "cell_type": "code",
   "execution_count": 29,
   "metadata": {},
   "outputs": [],
   "source": [
    "import torch\n",
    "import torchvision\n",
    "import numpy as np\n",
    "from sklearn import datasets\n",
    "from sklearn.preprocessing import StandardScaler\n",
    "from sklearn.model_selection import train_test_split\n",
    "\n",
    "# Data\n",
    "breastCancer = datasets.load_breast_cancer()"
   ]
  },
  {
   "cell_type": "code",
   "execution_count": 30,
   "metadata": {},
   "outputs": [
    {
     "name": "stdout",
     "output_type": "stream",
     "text": [
      "tensor([[0.],\n",
      "        [0.],\n",
      "        [1.],\n",
      "        [1.],\n",
      "        [1.],\n",
      "        [1.],\n",
      "        [1.],\n",
      "        [0.],\n",
      "        [0.],\n",
      "        [1.],\n",
      "        [1.],\n",
      "        [0.],\n",
      "        [0.],\n",
      "        [1.],\n",
      "        [0.],\n",
      "        [0.],\n",
      "        [1.],\n",
      "        [1.],\n",
      "        [1.],\n",
      "        [0.],\n",
      "        [1.],\n",
      "        [0.],\n",
      "        [0.],\n",
      "        [1.],\n",
      "        [1.],\n",
      "        [1.],\n",
      "        [0.],\n",
      "        [0.],\n",
      "        [1.],\n",
      "        [0.],\n",
      "        [1.],\n",
      "        [0.],\n",
      "        [1.],\n",
      "        [1.],\n",
      "        [1.],\n",
      "        [0.],\n",
      "        [1.],\n",
      "        [1.],\n",
      "        [1.],\n",
      "        [0.],\n",
      "        [1.],\n",
      "        [1.],\n",
      "        [1.],\n",
      "        [1.],\n",
      "        [1.],\n",
      "        [1.],\n",
      "        [1.],\n",
      "        [1.],\n",
      "        [1.],\n",
      "        [0.],\n",
      "        [1.],\n",
      "        [1.],\n",
      "        [0.],\n",
      "        [0.],\n",
      "        [0.],\n",
      "        [1.],\n",
      "        [1.],\n",
      "        [1.],\n",
      "        [1.],\n",
      "        [1.],\n",
      "        [1.],\n",
      "        [1.],\n",
      "        [1.],\n",
      "        [1.],\n",
      "        [1.],\n",
      "        [1.],\n",
      "        [1.],\n",
      "        [1.],\n",
      "        [1.],\n",
      "        [1.],\n",
      "        [1.],\n",
      "        [0.],\n",
      "        [0.],\n",
      "        [1.],\n",
      "        [0.],\n",
      "        [1.],\n",
      "        [1.],\n",
      "        [1.],\n",
      "        [1.],\n",
      "        [0.],\n",
      "        [0.],\n",
      "        [1.],\n",
      "        [1.],\n",
      "        [0.],\n",
      "        [0.],\n",
      "        [1.],\n",
      "        [0.],\n",
      "        [1.],\n",
      "        [0.],\n",
      "        [1.],\n",
      "        [0.],\n",
      "        [0.],\n",
      "        [1.],\n",
      "        [1.],\n",
      "        [0.],\n",
      "        [0.],\n",
      "        [1.],\n",
      "        [1.],\n",
      "        [1.],\n",
      "        [1.],\n",
      "        [0.],\n",
      "        [1.],\n",
      "        [1.],\n",
      "        [1.],\n",
      "        [1.],\n",
      "        [1.],\n",
      "        [1.],\n",
      "        [1.],\n",
      "        [0.],\n",
      "        [1.],\n",
      "        [0.],\n",
      "        [1.],\n",
      "        [1.],\n",
      "        [0.],\n",
      "        [0.],\n",
      "        [0.],\n",
      "        [0.],\n",
      "        [1.],\n",
      "        [1.],\n",
      "        [0.],\n",
      "        [1.],\n",
      "        [0.],\n",
      "        [0.],\n",
      "        [0.],\n",
      "        [1.],\n",
      "        [0.],\n",
      "        [1.],\n",
      "        [1.],\n",
      "        [1.],\n",
      "        [1.],\n",
      "        [1.],\n",
      "        [0.],\n",
      "        [1.],\n",
      "        [1.],\n",
      "        [0.],\n",
      "        [0.],\n",
      "        [0.],\n",
      "        [0.],\n",
      "        [1.],\n",
      "        [0.],\n",
      "        [1.],\n",
      "        [1.],\n",
      "        [0.],\n",
      "        [1.],\n",
      "        [0.],\n",
      "        [1.],\n",
      "        [1.],\n",
      "        [1.],\n",
      "        [0.],\n",
      "        [1.],\n",
      "        [1.],\n",
      "        [1.],\n",
      "        [0.],\n",
      "        [1.],\n",
      "        [1.],\n",
      "        [1.],\n",
      "        [1.],\n",
      "        [0.],\n",
      "        [1.],\n",
      "        [1.],\n",
      "        [0.],\n",
      "        [0.],\n",
      "        [0.],\n",
      "        [1.],\n",
      "        [1.],\n",
      "        [0.],\n",
      "        [1.],\n",
      "        [1.],\n",
      "        [1.],\n",
      "        [1.],\n",
      "        [1.],\n",
      "        [0.],\n",
      "        [1.],\n",
      "        [1.],\n",
      "        [1.],\n",
      "        [0.],\n",
      "        [1.],\n",
      "        [0.],\n",
      "        [0.],\n",
      "        [0.],\n",
      "        [0.],\n",
      "        [1.],\n",
      "        [0.],\n",
      "        [0.],\n",
      "        [0.],\n",
      "        [1.],\n",
      "        [1.],\n",
      "        [0.],\n",
      "        [1.],\n",
      "        [1.],\n",
      "        [1.],\n",
      "        [1.],\n",
      "        [0.],\n",
      "        [0.],\n",
      "        [1.],\n",
      "        [1.],\n",
      "        [1.],\n",
      "        [0.],\n",
      "        [1.],\n",
      "        [1.],\n",
      "        [1.],\n",
      "        [0.],\n",
      "        [1.],\n",
      "        [1.],\n",
      "        [0.],\n",
      "        [1.],\n",
      "        [1.],\n",
      "        [1.],\n",
      "        [1.],\n",
      "        [0.],\n",
      "        [0.],\n",
      "        [1.],\n",
      "        [0.],\n",
      "        [0.],\n",
      "        [1.],\n",
      "        [0.],\n",
      "        [1.],\n",
      "        [0.],\n",
      "        [0.],\n",
      "        [1.],\n",
      "        [1.],\n",
      "        [0.],\n",
      "        [1.],\n",
      "        [1.],\n",
      "        [1.],\n",
      "        [1.],\n",
      "        [1.],\n",
      "        [0.],\n",
      "        [1.],\n",
      "        [1.],\n",
      "        [1.],\n",
      "        [1.],\n",
      "        [0.],\n",
      "        [1.],\n",
      "        [1.],\n",
      "        [1.],\n",
      "        [1.],\n",
      "        [1.],\n",
      "        [0.],\n",
      "        [0.],\n",
      "        [0.],\n",
      "        [1.],\n",
      "        [0.],\n",
      "        [0.],\n",
      "        [1.],\n",
      "        [0.],\n",
      "        [1.],\n",
      "        [1.],\n",
      "        [1.],\n",
      "        [0.],\n",
      "        [1.],\n",
      "        [0.],\n",
      "        [1.],\n",
      "        [1.],\n",
      "        [1.],\n",
      "        [1.],\n",
      "        [0.],\n",
      "        [0.],\n",
      "        [1.],\n",
      "        [1.],\n",
      "        [1.],\n",
      "        [1.],\n",
      "        [0.],\n",
      "        [1.],\n",
      "        [1.],\n",
      "        [0.],\n",
      "        [0.],\n",
      "        [0.],\n",
      "        [1.],\n",
      "        [0.],\n",
      "        [0.],\n",
      "        [0.],\n",
      "        [1.],\n",
      "        [1.],\n",
      "        [1.],\n",
      "        [1.],\n",
      "        [1.],\n",
      "        [1.],\n",
      "        [1.],\n",
      "        [0.],\n",
      "        [1.],\n",
      "        [0.],\n",
      "        [0.],\n",
      "        [0.],\n",
      "        [0.],\n",
      "        [1.],\n",
      "        [1.],\n",
      "        [0.],\n",
      "        [1.],\n",
      "        [1.],\n",
      "        [1.],\n",
      "        [1.],\n",
      "        [1.],\n",
      "        [1.],\n",
      "        [1.],\n",
      "        [0.],\n",
      "        [0.],\n",
      "        [1.],\n",
      "        [1.],\n",
      "        [1.],\n",
      "        [1.],\n",
      "        [0.],\n",
      "        [1.],\n",
      "        [1.],\n",
      "        [1.],\n",
      "        [1.],\n",
      "        [0.],\n",
      "        [1.],\n",
      "        [1.],\n",
      "        [1.],\n",
      "        [0.],\n",
      "        [1.],\n",
      "        [0.],\n",
      "        [1.],\n",
      "        [1.],\n",
      "        [0.],\n",
      "        [0.],\n",
      "        [0.],\n",
      "        [0.],\n",
      "        [0.],\n",
      "        [1.],\n",
      "        [1.],\n",
      "        [1.],\n",
      "        [1.],\n",
      "        [1.],\n",
      "        [0.],\n",
      "        [1.],\n",
      "        [1.],\n",
      "        [1.],\n",
      "        [1.],\n",
      "        [0.],\n",
      "        [0.],\n",
      "        [1.],\n",
      "        [1.],\n",
      "        [1.],\n",
      "        [0.],\n",
      "        [1.],\n",
      "        [1.],\n",
      "        [1.],\n",
      "        [0.],\n",
      "        [1.],\n",
      "        [1.],\n",
      "        [0.],\n",
      "        [1.],\n",
      "        [1.],\n",
      "        [0.],\n",
      "        [1.],\n",
      "        [0.],\n",
      "        [1.],\n",
      "        [1.],\n",
      "        [1.],\n",
      "        [1.],\n",
      "        [0.],\n",
      "        [0.],\n",
      "        [1.],\n",
      "        [1.],\n",
      "        [1.],\n",
      "        [0.],\n",
      "        [1.],\n",
      "        [0.],\n",
      "        [0.],\n",
      "        [0.],\n",
      "        [1.],\n",
      "        [1.],\n",
      "        [1.],\n",
      "        [0.],\n",
      "        [1.],\n",
      "        [1.],\n",
      "        [1.],\n",
      "        [0.],\n",
      "        [0.],\n",
      "        [0.],\n",
      "        [1.],\n",
      "        [0.],\n",
      "        [1.],\n",
      "        [0.],\n",
      "        [0.],\n",
      "        [1.],\n",
      "        [1.],\n",
      "        [1.],\n",
      "        [1.],\n",
      "        [0.],\n",
      "        [0.],\n",
      "        [1.],\n",
      "        [1.],\n",
      "        [1.],\n",
      "        [1.],\n",
      "        [1.],\n",
      "        [0.],\n",
      "        [0.],\n",
      "        [1.],\n",
      "        [0.],\n",
      "        [1.],\n",
      "        [1.],\n",
      "        [1.],\n",
      "        [1.],\n",
      "        [1.],\n",
      "        [0.],\n",
      "        [0.],\n",
      "        [1.],\n",
      "        [1.],\n",
      "        [1.],\n",
      "        [1.],\n",
      "        [0.],\n",
      "        [0.],\n",
      "        [0.],\n",
      "        [1.],\n",
      "        [1.],\n",
      "        [0.],\n",
      "        [0.],\n",
      "        [0.],\n",
      "        [0.],\n",
      "        [1.],\n",
      "        [0.],\n",
      "        [1.],\n",
      "        [0.],\n",
      "        [0.],\n",
      "        [1.],\n",
      "        [1.],\n",
      "        [1.],\n",
      "        [1.],\n",
      "        [1.],\n",
      "        [1.],\n",
      "        [1.],\n",
      "        [1.],\n",
      "        [0.],\n",
      "        [1.],\n",
      "        [1.],\n",
      "        [1.],\n",
      "        [1.],\n",
      "        [1.],\n",
      "        [1.],\n",
      "        [0.],\n",
      "        [0.],\n",
      "        [0.],\n",
      "        [0.],\n",
      "        [1.],\n",
      "        [0.],\n",
      "        [0.],\n",
      "        [1.],\n",
      "        [1.],\n",
      "        [0.],\n",
      "        [0.],\n",
      "        [1.],\n",
      "        [0.],\n",
      "        [1.],\n",
      "        [1.],\n",
      "        [1.],\n",
      "        [1.],\n",
      "        [1.],\n",
      "        [0.],\n",
      "        [1.],\n",
      "        [0.],\n",
      "        [1.],\n",
      "        [1.]])\n"
     ]
    }
   ],
   "source": [
    "# Preparing the data\n",
    "X, y = breastCancer.data, breastCancer.target\n",
    "\n",
    "X_train, X_test, y_train, y_test = train_test_split(X,y, test_size = 0.2, random_state = 1)\n",
    "# Scale\n",
    "sc = StandardScaler()\n",
    "X_train = sc.fit_transform(X_train)\n",
    "X_test = sc.transform(X_test)\n",
    "\n",
    "X_train = tc.from_numpy(X_train.astype(np.float32))\n",
    "X_test = tc.from_numpy(X_test.astype(np.float32))\n",
    "y_train = tc.from_numpy(y_train.astype(np.float32))\n",
    "y_test = tc.from_numpy(y_test.astype(np.float32))\n",
    "y_train = y_train.view(y_train.shape[0],1)\n",
    "y_test = y_test.view(y_test.shape[0],1)\n",
    "\n",
    "print(y_train)\n"
   ]
  },
  {
   "cell_type": "code",
   "execution_count": 37,
   "metadata": {},
   "outputs": [
    {
     "name": "stdout",
     "output_type": "stream",
     "text": [
      "Using cuda\n"
     ]
    }
   ],
   "source": [
    "import os\n",
    "import torch \n",
    "from torch import nn\n",
    "from torch.utils.data import DataLoader\n",
    "from torchvision import datasets, transforms\n",
    "device = \"cuda\" if torch.cuda.is_available() else \"cpu\"\n",
    "print(\"Using {}\".format(device))\n"
   ]
  },
  {
   "cell_type": "code",
   "execution_count": 40,
   "metadata": {},
   "outputs": [
    {
     "name": "stdout",
     "output_type": "stream",
     "text": [
      "CustomModel(\n",
      "  (flatten): Flatten(start_dim=1, end_dim=-1)\n",
      "  (stack): Sequential(\n",
      "    (0): Linear(in_features=784, out_features=512, bias=True)\n",
      "    (1): ReLU()\n",
      "    (2): Linear(in_features=512, out_features=512, bias=True)\n",
      "    (3): ReLU()\n",
      "    (4): Linear(in_features=512, out_features=10, bias=True)\n",
      "  )\n",
      ")\n"
     ]
    }
   ],
   "source": [
    "class CustomModel(nn.Module):\n",
    "    def __init__(self):\n",
    "        super().__init__()\n",
    "        self.flatten = nn.Flatten()\n",
    "        self.stack = nn.Sequential(\n",
    "            nn.Linear(28*28, 512),\n",
    "            nn.ReLU(),\n",
    "            nn.Linear(512,512),\n",
    "            nn.ReLU(),\n",
    "            nn.Linear(512, 10),\n",
    "        )\n",
    "\n",
    "\n",
    "    def forward(self, x):\n",
    "        x = self.flatten(x)\n",
    "        logits = self.stack(x)\n",
    "        return logits\n",
    "\n",
    "\n",
    "model = CustomModel().to(device)\n",
    "print(model)"
   ]
  },
  {
   "cell_type": "code",
   "execution_count": 50,
   "metadata": {},
   "outputs": [
    {
     "name": "stdout",
     "output_type": "stream",
     "text": [
      "tensor([[0.0874, 0.1001, 0.0985, 0.1023, 0.1038, 0.0992, 0.0872, 0.1136, 0.0991,\n",
      "         0.1090]], device='cuda:0', grad_fn=<SoftmaxBackward0>)\n",
      "tensor([7], device='cuda:0')\n"
     ]
    }
   ],
   "source": [
    "X = torch.rand(1,28,28,device = device)\n",
    "logits = model(X)\n",
    "pred_prob = nn.Softmax(dim = 1)(logits)\n",
    "y_pred = pred_prob.argmax(1)\n",
    "print(pred_prob)\n",
    "print(y_pred)"
   ]
  },
  {
   "cell_type": "code",
   "execution_count": 52,
   "metadata": {},
   "outputs": [
    {
     "name": "stdout",
     "output_type": "stream",
     "text": [
      "CustomModel(\n",
      "  (flatten): Flatten(start_dim=1, end_dim=-1)\n",
      "  (stack): Sequential(\n",
      "    (0): Linear(in_features=784, out_features=512, bias=True)\n",
      "    (1): ReLU()\n",
      "    (2): Linear(in_features=512, out_features=512, bias=True)\n",
      "    (3): ReLU()\n",
      "    (4): Linear(in_features=512, out_features=10, bias=True)\n",
      "  )\n",
      ")\n"
     ]
    }
   ],
   "source": [
    "print(model)"
   ]
  },
  {
   "cell_type": "code",
   "execution_count": null,
   "metadata": {},
   "outputs": [],
   "source": []
  },
  {
   "cell_type": "code",
   "execution_count": null,
   "metadata": {},
   "outputs": [],
   "source": []
  },
  {
   "cell_type": "code",
   "execution_count": null,
   "metadata": {},
   "outputs": [],
   "source": []
  },
  {
   "cell_type": "code",
   "execution_count": null,
   "metadata": {},
   "outputs": [],
   "source": []
  },
  {
   "cell_type": "code",
   "execution_count": null,
   "metadata": {},
   "outputs": [],
   "source": []
  },
  {
   "cell_type": "code",
   "execution_count": null,
   "metadata": {},
   "outputs": [],
   "source": []
  },
  {
   "cell_type": "code",
   "execution_count": null,
   "metadata": {},
   "outputs": [],
   "source": []
  },
  {
   "cell_type": "code",
   "execution_count": null,
   "metadata": {},
   "outputs": [],
   "source": []
  },
  {
   "cell_type": "code",
   "execution_count": null,
   "metadata": {},
   "outputs": [],
   "source": []
  },
  {
   "cell_type": "code",
   "execution_count": 31,
   "metadata": {},
   "outputs": [],
   "source": [
    "# def wrapper(original):\n",
    "#     import stuff\n",
    "#     def wrapper_func(*args, **kwargs):\n",
    "#         do_more_things\n",
    "#         return original(*args, **kwargs)\n",
    "#     return wrapper\n",
    "\n",
    "\n",
    "# display = wrapper(display)\n",
    "# function_pointer = display\n",
    "# function_trigger = display() "
   ]
  },
  {
   "cell_type": "code",
   "execution_count": null,
   "metadata": {},
   "outputs": [],
   "source": []
  },
  {
   "cell_type": "code",
   "execution_count": null,
   "metadata": {},
   "outputs": [],
   "source": []
  },
  {
   "cell_type": "code",
   "execution_count": null,
   "metadata": {},
   "outputs": [],
   "source": []
  }
 ],
 "metadata": {
  "kernelspec": {
   "display_name": "Python 3.8.13 ('learn')",
   "language": "python",
   "name": "python3"
  },
  "language_info": {
   "codemirror_mode": {
    "name": "ipython",
    "version": 3
   },
   "file_extension": ".py",
   "mimetype": "text/x-python",
   "name": "python",
   "nbconvert_exporter": "python",
   "pygments_lexer": "ipython3",
   "version": "3.8.13"
  },
  "orig_nbformat": 4,
  "vscode": {
   "interpreter": {
    "hash": "3dd5497b91011d696502c11e3f599a4f8cd017170ff509027ce525b14ed758dd"
   }
  }
 },
 "nbformat": 4,
 "nbformat_minor": 2
}
