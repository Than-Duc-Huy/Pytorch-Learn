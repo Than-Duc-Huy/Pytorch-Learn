{
 "cells": [
  {
   "cell_type": "code",
   "execution_count": 51,
   "metadata": {},
   "outputs": [],
   "source": [
    "import torch\n",
    "import torch.nn as nn\n",
    "import torchvision\n",
    "import torchvision.transforms as transforms\n",
    "import matplotlib.pyplot as plt\n",
    "\n",
    "#Device\n",
    "device = torch.device('cuda' if torch.cuda.is_available() else 'cpu')\n"
   ]
  },
  {
   "cell_type": "code",
   "execution_count": 52,
   "metadata": {},
   "outputs": [],
   "source": [
    "# Hyper parameter\n",
    "LEARNING_RATE = 0.001\n",
    "INPUT_SIZE = 784\n",
    "HIDDEN = 100\n",
    "NUM_CLASS = 10\n",
    "BATCH_SIZE = 100\n"
   ]
  },
  {
   "cell_type": "code",
   "execution_count": 53,
   "metadata": {},
   "outputs": [],
   "source": [
    "train_dataset = torchvision.datasets.MNIST(root='./workflowData', train = True, download=True, transform= transforms.ToTensor())\n",
    "test_dataset = torchvision.datasets.MNIST(root='./workflowData', train = False, download = True, transform = transforms.ToTensor())\n",
    "\n",
    "\n",
    "\n"
   ]
  },
  {
   "cell_type": "code",
   "execution_count": 54,
   "metadata": {},
   "outputs": [
    {
     "name": "stdout",
     "output_type": "stream",
     "text": [
      "torch.Size([100, 1, 28, 28]) torch.Size([100])\n"
     ]
    }
   ],
   "source": [
    "# # Data \n",
    "# class MyDataSet(torch.utils.data.Dataset):\n",
    "#     def __init__(self):\n",
    "#         pass\n",
    "#     def __getitem__(self, index):\n",
    "#         pass\n",
    "#     def __len__(self):\n",
    "#         pass\n",
    "\n",
    "# data = MyDataSet()\n",
    "train_loader = torch.utils.data.DataLoader(train_dataset,BATCH_SIZE, shuffle = True)\n",
    "test_loader = torch.utils.data.DataLoader(test_dataset,BATCH_SIZE, shuffle = True)\n",
    "\n",
    "example = iter(train_loader)\n",
    "x, y = example.next()\n",
    "print(x.shape, y.shape)\n"
   ]
  },
  {
   "cell_type": "code",
   "execution_count": 55,
   "metadata": {},
   "outputs": [
    {
     "data": {
      "image/png": "[encoded data removed]",
      "text/plain": [
       "<Figure size 432x288 with 6 Axes>"
      ]
     },
     "metadata": {
      "needs_background": "light"
     },
     "output_type": "display_data"
    }
   ],
   "source": [
    "for i in range(6):\n",
    "    plt.subplot(2,3,i+1)\n",
    "    plt.imshow(x[i][0], cmap=\"gray\")"
   ]
  },
  {
   "cell_type": "code",
   "execution_count": 59,
   "metadata": {},
   "outputs": [
    {
     "name": "stdout",
     "output_type": "stream",
     "text": [
      "MyModel(\n",
      "  (stack): Sequential(\n",
      "    (0): Flatten(start_dim=1, end_dim=-1)\n",
      "    (1): Linear(in_features=784, out_features=100, bias=True)\n",
      "    (2): ReLU()\n",
      "    (3): Linear(in_features=100, out_features=10, bias=True)\n",
      "  )\n",
      ")\n"
     ]
    }
   ],
   "source": [
    "# Forward Model\n",
    "class MyModel(nn.Module):\n",
    "    def __init__(self, input, hidden, classes):\n",
    "        super().__init__()\n",
    "        self.stack = nn.Sequential(\n",
    "            nn.Flatten(),\n",
    "            nn.Linear(input, hidden),\n",
    "            nn.ReLU(),\n",
    "            nn.Linear(hidden, classes),\n",
    "\n",
    "        )\n",
    "    def forward(self, x):\n",
    "        return self.stack(x)\n",
    "\n",
    "model = MyModel(INPUT_SIZE, HIDDEN, NUM_CLASS).to(device)\n",
    "print(model)\n",
    "optimizer = torch.optim.Adam(model.parameters(), lr = LEARNING_RATE)\n",
    "loss_fn = nn.CrossEntropyLoss()\n",
    "\n",
    "\n",
    "\n"
   ]
  },
  {
   "cell_type": "code",
   "execution_count": 60,
   "metadata": {},
   "outputs": [
    {
     "name": "stdout",
     "output_type": "stream",
     "text": [
      "Iter [10/2]. Loss: 1.8922723531723022\n",
      "Iter [20/2]. Loss: 1.4745581150054932\n",
      "Iter [30/2]. Loss: 1.0735172033309937\n",
      "Iter [40/2]. Loss: 0.7712705135345459\n",
      "Iter [50/2]. Loss: 0.794105052947998\n",
      "Iter [60/2]. Loss: 0.5945881009101868\n",
      "Iter [70/2]. Loss: 0.5004300475120544\n",
      "Iter [80/2]. Loss: 0.46518516540527344\n",
      "Iter [90/2]. Loss: 0.5117669105529785\n",
      "Iter [100/2]. Loss: 0.39863404631614685\n",
      "Iter [110/2]. Loss: 0.36074960231781006\n",
      "Iter [120/2]. Loss: 0.3639815151691437\n",
      "Iter [130/2]. Loss: 0.4310683012008667\n",
      "Iter [140/2]. Loss: 0.3127084970474243\n",
      "Iter [150/2]. Loss: 0.3793085217475891\n",
      "Iter [160/2]. Loss: 0.34711024165153503\n",
      "Iter [170/2]. Loss: 0.4288884401321411\n",
      "Iter [180/2]. Loss: 0.44298702478408813\n",
      "Iter [190/2]. Loss: 0.35314473509788513\n",
      "Iter [200/2]. Loss: 0.4298747181892395\n",
      "Iter [210/2]. Loss: 0.25192734599113464\n",
      "Iter [220/2]. Loss: 0.27849748730659485\n",
      "Iter [230/2]. Loss: 0.4220551550388336\n",
      "Iter [240/2]. Loss: 0.3203774392604828\n",
      "Iter [250/2]. Loss: 0.35271793603897095\n",
      "Iter [260/2]. Loss: 0.28792738914489746\n",
      "Iter [270/2]. Loss: 0.28869813680648804\n",
      "Iter [280/2]. Loss: 0.38005462288856506\n",
      "Iter [290/2]. Loss: 0.18732225894927979\n",
      "Iter [300/2]. Loss: 0.20423085987567902\n",
      "Iter [310/2]. Loss: 0.3380681574344635\n",
      "Iter [320/2]. Loss: 0.2575138807296753\n",
      "Iter [330/2]. Loss: 0.21881864964962006\n",
      "Iter [340/2]. Loss: 0.26219671964645386\n",
      "Iter [350/2]. Loss: 0.3669082522392273\n",
      "Iter [360/2]. Loss: 0.33492085337638855\n",
      "Iter [370/2]. Loss: 0.2921644449234009\n",
      "Iter [380/2]. Loss: 0.23471087217330933\n",
      "Iter [390/2]. Loss: 0.23793433606624603\n",
      "Iter [400/2]. Loss: 0.16418614983558655\n",
      "Iter [410/2]. Loss: 0.1525256633758545\n",
      "Iter [420/2]. Loss: 0.3966456651687622\n",
      "Iter [430/2]. Loss: 0.23727773129940033\n",
      "Iter [440/2]. Loss: 0.40078234672546387\n",
      "Iter [450/2]. Loss: 0.37387749552726746\n",
      "Iter [460/2]. Loss: 0.2904062867164612\n",
      "Iter [470/2]. Loss: 0.3120499849319458\n",
      "Iter [480/2]. Loss: 0.2249475121498108\n",
      "Iter [490/2]. Loss: 0.2331155240535736\n",
      "Iter [500/2]. Loss: 0.20710739493370056\n",
      "Iter [510/2]. Loss: 0.30735844373703003\n",
      "Iter [520/2]. Loss: 0.2775425314903259\n",
      "Iter [530/2]. Loss: 0.2171241194009781\n",
      "Iter [540/2]. Loss: 0.25528964400291443\n",
      "Iter [550/2]. Loss: 0.12727288901805878\n",
      "Iter [560/2]. Loss: 0.32322826981544495\n",
      "Iter [570/2]. Loss: 0.30388975143432617\n",
      "Iter [580/2]. Loss: 0.21750611066818237\n",
      "Iter [590/2]. Loss: 0.30237284302711487\n",
      "Iter [600/2]. Loss: 0.14272919297218323\n",
      "Iter [10/2]. Loss: 0.19889335334300995\n",
      "Iter [20/2]. Loss: 0.24357624351978302\n",
      "Iter [30/2]. Loss: 0.3058915436267853\n",
      "Iter [40/2]. Loss: 0.2362537980079651\n",
      "Iter [50/2]. Loss: 0.19634628295898438\n",
      "Iter [60/2]. Loss: 0.2525807321071625\n",
      "Iter [70/2]. Loss: 0.3266662359237671\n",
      "Iter [80/2]. Loss: 0.23848548531532288\n",
      "Iter [90/2]. Loss: 0.25078284740448\n",
      "Iter [100/2]. Loss: 0.26936134696006775\n",
      "Iter [110/2]. Loss: 0.22161652147769928\n",
      "Iter [120/2]. Loss: 0.33021941781044006\n",
      "Iter [130/2]. Loss: 0.1488543003797531\n",
      "Iter [140/2]. Loss: 0.18435531854629517\n",
      "Iter [150/2]. Loss: 0.2803235948085785\n",
      "Iter [160/2]. Loss: 0.19637346267700195\n",
      "Iter [170/2]. Loss: 0.2771371901035309\n",
      "Iter [180/2]. Loss: 0.15192025899887085\n",
      "Iter [190/2]. Loss: 0.14707474410533905\n",
      "Iter [200/2]. Loss: 0.13534507155418396\n",
      "Iter [210/2]. Loss: 0.24233734607696533\n",
      "Iter [220/2]. Loss: 0.2120537906885147\n",
      "Iter [230/2]. Loss: 0.22727012634277344\n",
      "Iter [240/2]. Loss: 0.28677743673324585\n",
      "Iter [250/2]. Loss: 0.17750604450702667\n",
      "Iter [260/2]. Loss: 0.18465463817119598\n",
      "Iter [270/2]. Loss: 0.19641946256160736\n",
      "Iter [280/2]. Loss: 0.13230764865875244\n",
      "Iter [290/2]. Loss: 0.3184923827648163\n",
      "Iter [300/2]. Loss: 0.1689552515745163\n",
      "Iter [310/2]. Loss: 0.237639382481575\n",
      "Iter [320/2]. Loss: 0.18473869562149048\n",
      "Iter [330/2]. Loss: 0.28865423798561096\n",
      "Iter [340/2]. Loss: 0.23585641384124756\n",
      "Iter [350/2]. Loss: 0.23378486931324005\n",
      "Iter [360/2]. Loss: 0.2359204888343811\n",
      "Iter [370/2]. Loss: 0.18314647674560547\n",
      "Iter [380/2]. Loss: 0.14173012971878052\n",
      "Iter [390/2]. Loss: 0.20256748795509338\n",
      "Iter [400/2]. Loss: 0.15523111820220947\n",
      "Iter [410/2]. Loss: 0.15699218213558197\n",
      "Iter [420/2]. Loss: 0.2310621589422226\n",
      "Iter [430/2]. Loss: 0.2152092158794403\n",
      "Iter [440/2]. Loss: 0.27820828557014465\n",
      "Iter [450/2]. Loss: 0.17909930646419525\n",
      "Iter [460/2]. Loss: 0.10836263746023178\n",
      "Iter [470/2]. Loss: 0.18343694508075714\n",
      "Iter [480/2]. Loss: 0.16445791721343994\n",
      "Iter [490/2]. Loss: 0.09571840614080429\n",
      "Iter [500/2]. Loss: 0.2534908056259155\n",
      "Iter [510/2]. Loss: 0.15044774115085602\n",
      "Iter [520/2]. Loss: 0.26220518350601196\n",
      "Iter [530/2]. Loss: 0.14241641759872437\n",
      "Iter [540/2]. Loss: 0.13469508290290833\n",
      "Iter [550/2]. Loss: 0.18139678239822388\n",
      "Iter [560/2]. Loss: 0.23756811022758484\n",
      "Iter [570/2]. Loss: 0.12654352188110352\n",
      "Iter [580/2]. Loss: 0.13512088358402252\n",
      "Iter [590/2]. Loss: 0.12079837918281555\n",
      "Iter [600/2]. Loss: 0.13055865466594696\n"
     ]
    }
   ],
   "source": [
    "# Training\n",
    "EPOCH = 2\n",
    "\n",
    "for epoch in range(EPOCH):\n",
    "    for i , (input,output) in enumerate(train_loader):\n",
    "        input = input.to(device)\n",
    "        output = output.to(device)\n",
    "        pred = model(input)\n",
    "        loss = loss_fn(pred, output)\n",
    "        loss.backward()\n",
    "        optimizer.step()\n",
    "        optimizer.zero_grad()\n",
    "        if (i + 1) % 10 == 0:\n",
    "            print(\"Iter [{}/{}]. Loss: {}\".format((i+1), EPOCH, loss))"
   ]
  },
  {
   "cell_type": "code",
   "execution_count": 58,
   "metadata": {},
   "outputs": [
    {
     "name": "stdout",
     "output_type": "stream",
     "text": [
      "Accuracy 60.32\n"
     ]
    }
   ],
   "source": [
    "## Test\n",
    "with torch.no_grad():\n",
    "    n_correct = 0\n",
    "    n_samples = 0\n",
    "\n",
    "    for x, y in test_loader:\n",
    "        x = x.to(device)\n",
    "        y = y.to(device)\n",
    "        pred = model(x)\n",
    "\n",
    "        _, prediction = torch.max(pred, 1)\n",
    "        n_samples += y.shape[0]\n",
    "        n_correct += (prediction == y).sum().item()\n",
    "\n",
    "    acc = 100 * n_correct / n_samples\n",
    "    print(\"Accuracy\", acc)\n",
    "\n",
    "\n"
   ]
  },
  {
   "cell_type": "code",
   "execution_count": null,
   "metadata": {},
   "outputs": [],
   "source": []
  },
  {
   "cell_type": "code",
   "execution_count": null,
   "metadata": {},
   "outputs": [],
   "source": []
  },
  {
   "cell_type": "code",
   "execution_count": null,
   "metadata": {},
   "outputs": [],
   "source": []
  },
  {
   "cell_type": "code",
   "execution_count": null,
   "metadata": {},
   "outputs": [],
   "source": []
  },
  {
   "cell_type": "code",
   "execution_count": null,
   "metadata": {},
   "outputs": [],
   "source": []
  },
  {
   "cell_type": "code",
   "execution_count": null,
   "metadata": {},
   "outputs": [],
   "source": []
  },
  {
   "cell_type": "code",
   "execution_count": null,
   "metadata": {},
   "outputs": [],
   "source": []
  },
  {
   "cell_type": "code",
   "execution_count": null,
   "metadata": {},
   "outputs": [],
   "source": []
  },
  {
   "cell_type": "code",
   "execution_count": null,
   "metadata": {},
   "outputs": [],
   "source": []
  },
  {
   "cell_type": "code",
   "execution_count": null,
   "metadata": {},
   "outputs": [],
   "source": []
  },
  {
   "cell_type": "code",
   "execution_count": null,
   "metadata": {},
   "outputs": [],
   "source": []
  },
  {
   "cell_type": "code",
   "execution_count": null,
   "metadata": {},
   "outputs": [],
   "source": []
  },
  {
   "cell_type": "code",
   "execution_count": null,
   "metadata": {},
   "outputs": [],
   "source": []
  },
  {
   "cell_type": "code",
   "execution_count": null,
   "metadata": {},
   "outputs": [],
   "source": []
  },
  {
   "cell_type": "code",
   "execution_count": null,
   "metadata": {},
   "outputs": [],
   "source": []
  },
  {
   "cell_type": "code",
   "execution_count": null,
   "metadata": {},
   "outputs": [],
   "source": []
  },
  {
   "cell_type": "code",
   "execution_count": null,
   "metadata": {},
   "outputs": [],
   "source": []
  },
  {
   "cell_type": "code",
   "execution_count": null,
   "metadata": {},
   "outputs": [],
   "source": []
  }
 ],
 "metadata": {
  "kernelspec": {
   "display_name": "Python 3.8.13 ('learn')",
   "language": "python",
   "name": "python3"
  },
  "language_info": {
   "codemirror_mode": {
    "name": "ipython",
    "version": 3
   },
   "file_extension": ".py",
   "mimetype": "text/x-python",
   "name": "python",
   "nbconvert_exporter": "python",
   "pygments_lexer": "ipython3",
   "version": "3.8.13"
  },
  "orig_nbformat": 4,
  "vscode": {
   "interpreter": {
    "hash": "3dd5497b91011d696502c11e3f599a4f8cd017170ff509027ce525b14ed758dd"
   }
  }
 },
 "nbformat": 4,
 "nbformat_minor": 2
}
